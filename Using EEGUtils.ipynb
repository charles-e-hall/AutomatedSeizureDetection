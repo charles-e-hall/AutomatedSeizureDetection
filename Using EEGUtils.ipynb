{
 "cells": [
  {
   "cell_type": "code",
   "execution_count": 2,
   "metadata": {
    "collapsed": false
   },
   "outputs": [
    {
     "data": {
      "text/plain": [
       "[[('Patient1t15',\n",
       "   736551,\n",
       "   3,\n",
       "   '16:25:02',\n",
       "   '16:26:07',\n",
       "   30690.309050925924,\n",
       "   30690.309803240743)]]"
      ]
     },
     "execution_count": 2,
     "metadata": {},
     "output_type": "execute_result"
    }
   ],
   "source": [
    "import EEGUtils\n",
    "\n",
    "df = EEGUtils.returnDataBlock('/path/to/file.csv')\n",
    "\n",
    "seizures = EEGUtils.getSeizuresFromBlock(df)\n",
    "\n",
    "seizures"
   ]
  },
  {
   "cell_type": "code",
   "execution_count": null,
   "metadata": {
    "collapsed": true
   },
   "outputs": [],
   "source": []
  }
 ],
 "metadata": {
  "kernelspec": {
   "display_name": "Python 2",
   "language": "python",
   "name": "python2"
  },
  "language_info": {
   "codemirror_mode": {
    "name": "ipython",
    "version": 2
   },
   "file_extension": ".py",
   "mimetype": "text/x-python",
   "name": "python",
   "nbconvert_exporter": "python",
   "pygments_lexer": "ipython2",
   "version": "2.7.11"
  }
 },
 "nbformat": 4,
 "nbformat_minor": 0
}
