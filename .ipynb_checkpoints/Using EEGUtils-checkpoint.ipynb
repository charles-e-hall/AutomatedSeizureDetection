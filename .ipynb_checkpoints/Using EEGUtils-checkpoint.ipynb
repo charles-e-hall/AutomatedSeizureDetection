{
 "cells": [
  {
   "cell_type": "code",
   "execution_count": 1,
   "metadata": {
    "collapsed": false
   },
   "outputs": [
    {
     "data": {
      "text/plain": [
       "[[(210896491,\n",
       "   'Patient1t15',\n",
       "   736551,\n",
       "   3,\n",
       "   '16:25:02',\n",
       "   '16:26:07',\n",
       "   30690.309050925924,\n",
       "   30690.309803240743)]]"
      ]
     },
     "execution_count": 1,
     "metadata": {},
     "output_type": "execute_result"
    }
   ],
   "source": [
    "import EEGUtils\n",
    "\n",
    "DF = EEGUtils.returnDataBlock('/path/to/file.csv')\n",
    "\n",
    "seizures = EEGUtils.getSeizuresFromBlock(DF)\n",
    "\n",
    "seizures"
   ]
  },
  {
   "cell_type": "code",
   "execution_count": 2,
   "metadata": {
    "collapsed": false
   },
   "outputs": [],
   "source": [
    "EEGUtils.insertEvents(seizures, 'AWS Host', 3306, 'database instance', 'user', 'password')"
   ]
  },
  {
   "cell_type": "code",
   "execution_count": 3,
   "metadata": {
    "collapsed": false
   },
   "outputs": [
    {
     "data": {
      "text/plain": [
       "[(2147483647L,\n",
       "  'Patient1t15',\n",
       "  736551L,\n",
       "  3L,\n",
       "  '16:25:02',\n",
       "  '16:26:07',\n",
       "  30690.3,\n",
       "  30690.3),\n",
       " (210896491L,\n",
       "  'Patient1t15',\n",
       "  736551L,\n",
       "  3L,\n",
       "  '16:25:02',\n",
       "  '16:26:07',\n",
       "  30690.3,\n",
       "  30690.3)]"
      ]
     },
     "execution_count": 3,
     "metadata": {},
     "output_type": "execute_result"
    }
   ],
   "source": [
    "import MySQLdb\n",
    "\n",
    "db = MySQLdb.connect(host='AWS Host', port=3306, user='user', passwd='password', db='database instance')\n",
    "h = db.cursor()\n",
    "h.execute(\"SELECT * FROM nicolet_event_log\")\n",
    "list(h)"
   ]
  },
  {
   "cell_type": "code",
   "execution_count": null,
   "metadata": {
    "collapsed": true
   },
   "outputs": [],
   "source": []
  }
 ],
 "metadata": {
  "kernelspec": {
   "display_name": "Python 2",
   "language": "python",
   "name": "python2"
  },
  "language_info": {
   "codemirror_mode": {
    "name": "ipython",
    "version": 2
   },
   "file_extension": ".py",
   "mimetype": "text/x-python",
   "name": "python",
   "nbconvert_exporter": "python",
   "pygments_lexer": "ipython2",
   "version": "2.7.11"
  }
 },
 "nbformat": 4,
 "nbformat_minor": 0
}
