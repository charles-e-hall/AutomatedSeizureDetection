{
 "cells": [
  {
   "cell_type": "code",
   "execution_count": 13,
   "metadata": {
    "collapsed": false
   },
   "outputs": [
    {
     "data": {
      "text/plain": [
       "[[(290996581,\n",
       "   'Patient1t42',\n",
       "   736564,\n",
       "   1,\n",
       "   '2:42:23',\n",
       "   '2:43:23',\n",
       "   30690.27943287037,\n",
       "   30690.280127314818)]]"
      ]
     },
     "execution_count": 13,
     "metadata": {},
     "output_type": "execute_result"
    }
   ],
   "source": [
    "import EEGUtils\n",
    "\n",
    "df = EEGUtils.returnDataBlock('/Volumes/dusom_mcnamaralab/all_staff/Charlie/EEG Predictions/Dylan_August_17_23.csv', 6)\n",
    "\n",
    "seizures = EEGUtils.getSeizuresFromBlock(df)\n",
    "\n",
    "seizures"
   ]
  },
  {
   "cell_type": "code",
   "execution_count": 14,
   "metadata": {
    "collapsed": true
   },
   "outputs": [],
   "source": [
    "EEGUtils.insertEvents(seizures, 'eeg.cpivbi1tmjzn.us-east-2.rds.amazonaws.com', 3306, 'eegevents', 'charlie', 'Standard01')"
   ]
  },
  {
   "cell_type": "code",
   "execution_count": 15,
   "metadata": {
    "collapsed": false
   },
   "outputs": [
    {
     "data": {
      "text/plain": [
       "[(25L,)]"
      ]
     },
     "execution_count": 15,
     "metadata": {},
     "output_type": "execute_result"
    }
   ],
   "source": [
    "import MySQLdb\n",
    "\n",
    "db = MySQLdb.connect(host='eeg.cpivbi1tmjzn.us-east-2.rds.amazonaws.com', port=3306, user='charlie', passwd='Standard01', db='eegevents')\n",
    "\n",
    "h = db.cursor()\n",
    "\n",
    "h.execute('SELECT COUNT(*) FROM nicolet_event_log')\n",
    "\n",
    "list(h)"
   ]
  },
  {
   "cell_type": "code",
   "execution_count": 16,
   "metadata": {
    "collapsed": true
   },
   "outputs": [],
   "source": [
    "db.close()\n"
   ]
  },
  {
   "cell_type": "code",
   "execution_count": 18,
   "metadata": {
    "collapsed": false
   },
   "outputs": [],
   "source": [
    "for i in range(7):\n",
    "    df = EEGUtils.returnDataBlock('/Volumes/dusom_mcnamaralab/all_staff/Charlie/EEG Predictions/ExcelFiles/CSV/Dylan August 24-30.csv', i)\n",
    "\n",
    "    seizures = EEGUtils.getSeizuresFromBlock(df)\n",
    "    \n",
    "    if seizures:\n",
    "        EEGUtils.insertEvents(seizures, 'eeg.cpivbi1tmjzn.us-east-2.rds.amazonaws.com', 3306, 'eegevents', 'charlie', 'Standard01')"
   ]
  },
  {
   "cell_type": "code",
   "execution_count": 19,
   "metadata": {
    "collapsed": true
   },
   "outputs": [],
   "source": [
    "fb = open('test_binary.bin', 'wb')\n",
    "data = b'This is text.'\n",
    "fb.write(data)"
   ]
  },
  {
   "cell_type": "code",
   "execution_count": 20,
   "metadata": {
    "collapsed": false
   },
   "outputs": [
    {
     "data": {
      "text/plain": [
       "'This is text.'"
      ]
     },
     "execution_count": 20,
     "metadata": {},
     "output_type": "execute_result"
    }
   ],
   "source": [
    "fb.close()\n",
    "f = open('test_binary.bin', 'rb')\n",
    "\n",
    "stuff = f.read()\n",
    "stuff"
   ]
  },
  {
   "cell_type": "code",
   "execution_count": 21,
   "metadata": {
    "collapsed": false
   },
   "outputs": [
    {
     "data": {
      "text/plain": [
       "'This is text.'"
      ]
     },
     "execution_count": 21,
     "metadata": {},
     "output_type": "execute_result"
    }
   ],
   "source": [
    "f.close()\n",
    "f = open('test_binary.bin', 'r')\n",
    "stuff = f.read()\n",
    "\n",
    "stuff"
   ]
  },
  {
   "cell_type": "code",
   "execution_count": 22,
   "metadata": {
    "collapsed": false
   },
   "outputs": [
    {
     "data": {
      "text/plain": [
       "''"
      ]
     },
     "execution_count": 22,
     "metadata": {},
     "output_type": "execute_result"
    }
   ],
   "source": [
    "test = f.read()\n",
    "test"
   ]
  },
  {
   "cell_type": "code",
   "execution_count": 23,
   "metadata": {
    "collapsed": false
   },
   "outputs": [
    {
     "data": {
      "text/plain": [
       "'This is text.'"
      ]
     },
     "execution_count": 23,
     "metadata": {},
     "output_type": "execute_result"
    }
   ],
   "source": [
    "f.close()\n",
    "f = open('test_binary.bin', 'r')\n",
    "stuff2 = f.read()\n",
    "\n",
    "stuff2"
   ]
  },
  {
   "cell_type": "code",
   "execution_count": 24,
   "metadata": {
    "collapsed": false
   },
   "outputs": [
    {
     "data": {
      "text/plain": [
       "''"
      ]
     },
     "execution_count": 24,
     "metadata": {},
     "output_type": "execute_result"
    }
   ],
   "source": [
    "f.read()"
   ]
  },
  {
   "cell_type": "code",
   "execution_count": 25,
   "metadata": {
    "collapsed": true
   },
   "outputs": [],
   "source": [
    "f = open('test_binary.bin', 'ab')"
   ]
  },
  {
   "cell_type": "code",
   "execution_count": 26,
   "metadata": {
    "collapsed": true
   },
   "outputs": [],
   "source": [
    "f.write(b'This is even more text')"
   ]
  },
  {
   "cell_type": "code",
   "execution_count": 27,
   "metadata": {
    "collapsed": false
   },
   "outputs": [
    {
     "data": {
      "text/plain": [
       "'This is text.This is even more text'"
      ]
     },
     "execution_count": 27,
     "metadata": {},
     "output_type": "execute_result"
    }
   ],
   "source": [
    "f.close()\n",
    "\n",
    "f = open('test_binary.bin', 'rb')\n",
    "f.read()"
   ]
  },
  {
   "cell_type": "code",
   "execution_count": 28,
   "metadata": {
    "collapsed": false
   },
   "outputs": [
    {
     "name": "stdout",
     "output_type": "stream",
     "text": [
      "This is a b c\n"
     ]
    }
   ],
   "source": [
    "a = 'a'\n",
    "b = 'b'\n",
    "c = 'c'\n",
    "\n",
    "print \"This is {} {} {}\".format(a, b, c)"
   ]
  },
  {
   "cell_type": "code",
   "execution_count": null,
   "metadata": {
    "collapsed": true
   },
   "outputs": [],
   "source": []
  }
 ],
 "metadata": {
  "kernelspec": {
   "display_name": "Python 2",
   "language": "python",
   "name": "python2"
  },
  "language_info": {
   "codemirror_mode": {
    "name": "ipython",
    "version": 2
   },
   "file_extension": ".py",
   "mimetype": "text/x-python",
   "name": "python",
   "nbconvert_exporter": "python",
   "pygments_lexer": "ipython2",
   "version": "2.7.11"
  }
 },
 "nbformat": 4,
 "nbformat_minor": 0
}
